{
 "cells": [
  {
   "cell_type": "code",
   "execution_count": 9,
   "metadata": {},
   "outputs": [
    {
     "name": "stdout",
     "output_type": "stream",
     "text": [
      "a    0\n",
      "a    1\n",
      "b    2\n",
      "d    3\n",
      "e    4\n",
      "f    5\n",
      "dtype: int64\n",
      "False\n",
      "a    0\n",
      "a    1\n",
      "dtype: int64\n"
     ]
    }
   ],
   "source": [
    "import pandas as pd\n",
    "\n",
    "obj = pd.Series(range(6),index=['a','a','b','d','e','f'])\n",
    "print(obj)\n",
    "print(obj.index.is_unique)\n",
    "print(obj['a'])"
   ]
  },
  {
   "cell_type": "code",
   "execution_count": 22,
   "metadata": {},
   "outputs": [
    {
     "name": "stdout",
     "output_type": "stream",
     "text": [
      "    zz   yy\n",
      "a  1.4  NaN\n",
      "b  1.0  2.0\n",
      "sum= zz    2.4\n",
      "yy    2.0\n",
      "dtype: float64\n",
      "sum= a    1.4\n",
      "b    3.0\n",
      "dtype: float64\n",
      "sum= zz    2.4\n",
      "yy    NaN\n",
      "dtype: float64\n",
      "sum= a    NaN\n",
      "b    3.0\n",
      "dtype: float64\n",
      "             zz   yy\n",
      "count  2.000000  1.0\n",
      "mean   1.200000  2.0\n",
      "std    0.282843  NaN\n",
      "min    1.000000  2.0\n",
      "25%    1.100000  2.0\n",
      "50%    1.200000  2.0\n",
      "75%    1.300000  2.0\n",
      "max    1.400000  2.0\n"
     ]
    }
   ],
   "source": [
    "import numpy as np\n",
    "\n",
    "import pandas as pd\n",
    "df=pd.DataFrame([[1.4,np.nan],[1,2]],index=['a', 'b'],columns=['zz','yy'])\n",
    "print(df)\n",
    "print(\"sum=\",df.sum())\n",
    "print(\"sum=\",df.sum(axis=1))\n",
    "print(\"sum=\",df.sum(skipna=False))\n",
    "print(\"sum=\",df.sum(axis=1,skipna=False))\n",
    "print(df.describe())"
   ]
  },
  {
   "cell_type": "code",
   "execution_count": 27,
   "metadata": {},
   "outputs": [
    {
     "name": "stdout",
     "output_type": "stream",
     "text": [
      "<class 'pandas.core.frame.DataFrame'>\n",
      "RangeIndex: 3 entries, 0 to 2\n",
      "Data columns (total 2 columns):\n",
      "a    3 non-null int64\n",
      "b    3 non-null int64\n",
      "dtypes: int64(2)\n",
      "memory usage: 128.0 bytes\n"
     ]
    }
   ],
   "source": [
    "df=pd.DataFrame({'a':[1,2,3],'b':[5,6,7]})\n",
    "df.info()"
   ]
  },
  {
   "cell_type": "code",
   "execution_count": 32,
   "metadata": {},
   "outputs": [
    {
     "name": "stdout",
     "output_type": "stream",
     "text": [
      "0    1\n",
      "1    2\n",
      "dtype: int64\n",
      "0    1.0\n",
      "1    2.0\n",
      "2    NaN\n",
      "dtype: float64\n"
     ]
    },
    {
     "data": {
      "text/plain": [
       "0    True\n",
       "1     NaN\n",
       "2    True\n",
       "3    None\n",
       "dtype: object"
      ]
     },
     "execution_count": 32,
     "metadata": {},
     "output_type": "execute_result"
    }
   ],
   "source": [
    "print(pd.Series([1,2]))\n",
    "print(pd.Series([1,2,None]))\n",
    "pd.Series([1, np.nan, 2, None])\n",
    "pd.Series([True, np.nan, True, None])"
   ]
  },
  {
   "cell_type": "code",
   "execution_count": 35,
   "metadata": {},
   "outputs": [
    {
     "name": "stdout",
     "output_type": "stream",
     "text": [
      "     0    1    2\n",
      "0  1.0  6.5  3.0\n",
      "1  1.0  NaN  NaN\n",
      "3  NaN  6.5  3.0\n"
     ]
    }
   ],
   "source": [
    "df=pd.DataFrame([[1., 6.5, 3.], [1., np.nan, np.nan],\n",
    "                  [np.nan, np.nan, np.nan], [np.nan, 6.5, 3.]])\n",
    "print(df.dropna(how='all'))"
   ]
  }
 ],
 "metadata": {
  "kernelspec": {
   "display_name": "Python 3",
   "language": "python",
   "name": "python3"
  },
  "language_info": {
   "codemirror_mode": {
    "name": "ipython",
    "version": 3
   },
   "file_extension": ".py",
   "mimetype": "text/x-python",
   "name": "python",
   "nbconvert_exporter": "python",
   "pygments_lexer": "ipython3",
   "version": "3.7.0"
  }
 },
 "nbformat": 4,
 "nbformat_minor": 2
}
