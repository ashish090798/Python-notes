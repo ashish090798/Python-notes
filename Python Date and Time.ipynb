{
 "cells": [
  {
   "cell_type": "code",
   "execution_count": 5,
   "metadata": {},
   "outputs": [],
   "source": [
    "#DATE AND TIME"
   ]
  },
  {
   "cell_type": "code",
   "execution_count": 107,
   "metadata": {},
   "outputs": [
    {
     "name": "stdout",
     "output_type": "stream",
     "text": [
      "<class 'str'>\n",
      "<class 'datetime.datetime'>\n",
      "2020-01-31 00:00:00\n"
     ]
    }
   ],
   "source": [
    "#CONVERSION OF DATE FROM STRING TO DATETIME\n",
    "\n",
    "date_str='2020-01-31'\n",
    "print(type(date_str))\n",
    "\n",
    "from datetime import datetime\n",
    "dt=datetime.strptime(date_str, '%Y-%m-%d')\n",
    "print(type(dt))\n",
    "print(dt)"
   ]
  },
  {
   "cell_type": "code",
   "execution_count": 98,
   "metadata": {},
   "outputs": [
    {
     "data": {
      "text/plain": [
       "[datetime.datetime(2011, 7, 2, 0, 0),\n",
       " datetime.datetime(2012, 8, 6, 0, 0),\n",
       " datetime.datetime(2013, 11, 13, 0, 0),\n",
       " datetime.datetime(2011, 5, 26, 0, 0),\n",
       " datetime.datetime(2001, 5, 2, 0, 0)]"
      ]
     },
     "execution_count": 98,
     "metadata": {},
     "output_type": "execute_result"
    }
   ],
   "source": [
    "#convert a list of dates\n",
    "attack_dates = ['7/2/2011', '8/6/2012', '11/13/2013', '5/26/2011', '5/2/2001']\n",
    "[datetime.strptime(x, '%m/%d/%Y') for x in attack_dates]"
   ]
  },
  {
   "cell_type": "code",
   "execution_count": 118,
   "metadata": {},
   "outputs": [
    {
     "name": "stdout",
     "output_type": "stream",
     "text": [
      "2020-01-16\n"
     ]
    }
   ],
   "source": [
    "#subtract days from today's date\n",
    "from datetime import datetime, timedelta\n",
    "modified_date=datetime.now()-timedelta(days=15)\n",
    "modified_date=modified_date.date()\n",
    "print(modified_date)"
   ]
  },
  {
   "cell_type": "code",
   "execution_count": 119,
   "metadata": {},
   "outputs": [
    {
     "name": "stdout",
     "output_type": "stream",
     "text": [
      "2020-02-15\n"
     ]
    }
   ],
   "source": [
    "#add days to today's date\n",
    "from datetime import datetime, timedelta\n",
    "modified_date=datetime.now()+timedelta(days=15)\n",
    "modified_date=modified_date.date()\n",
    "print(modified_date)"
   ]
  },
  {
   "cell_type": "code",
   "execution_count": 141,
   "metadata": {},
   "outputs": [
    {
     "name": "stdout",
     "output_type": "stream",
     "text": [
      "03:18:36 PM\n"
     ]
    }
   ],
   "source": [
    "#add time to current time \n",
    "from datetime import datetime, timedelta\n",
    "modified_time = datetime.now() + timedelta(hours=12)\n",
    "modified_time=modified_time.time().strftime('%I:%M:%S %p') # 12 hour format\n",
    "# modified_time=modified_time.time().strftime('%H:%M:%S %p') # 24 hour format\n",
    "#modified_time=modified_time.time().strftime('%X %p')\n",
    "print(modified_time)"
   ]
  },
  {
   "cell_type": "code",
   "execution_count": 134,
   "metadata": {},
   "outputs": [
    {
     "name": "stdout",
     "output_type": "stream",
     "text": [
      "22:13:03 PM\n"
     ]
    }
   ],
   "source": [
    "#add time to current time\n",
    "from datetime import datetime, timedelta\n",
    "modified_time = datetime.now() - timedelta(hours=5)\n",
    "modified_time=modified_time.time().strftime('%H:%M:%S %p')\n",
    "# modified_time=modified_time.time().strftime('%X %p')\n",
    "print(modified_time)"
   ]
  },
  {
   "cell_type": "code",
   "execution_count": 117,
   "metadata": {},
   "outputs": [],
   "source": [
    "from datetime import datetime, timedelta\n",
    "\n",
    "nine_hours_from_now = datetime.now() + timedelta(hours=9)"
   ]
  },
  {
   "cell_type": "code",
   "execution_count": 12,
   "metadata": {},
   "outputs": [
    {
     "name": "stdout",
     "output_type": "stream",
     "text": [
      "2020-01-31 02:16:54.170010\n",
      "2020-01-31 02:16:54.170010\n"
     ]
    }
   ],
   "source": [
    "#current date and time\n",
    "import datetime\n",
    "print(datetime.datetime.now())\n",
    "\n",
    "from datetime import datetime \n",
    "print(datetime.now())"
   ]
  },
  {
   "cell_type": "code",
   "execution_count": 16,
   "metadata": {},
   "outputs": [
    {
     "name": "stdout",
     "output_type": "stream",
     "text": [
      "2020-01-31\n"
     ]
    }
   ],
   "source": [
    "#date - yy-mm-dd\n",
    "from datetime import date\n",
    "print(date.today())"
   ]
  },
  {
   "cell_type": "code",
   "execution_count": 30,
   "metadata": {},
   "outputs": [
    {
     "name": "stdout",
     "output_type": "stream",
     "text": [
      "01/31/20\n"
     ]
    }
   ],
   "source": [
    "#date - mm-dd-yy\n",
    "from datetime import datetime\n",
    "print(datetime.now().strftime('%x'))"
   ]
  },
  {
   "cell_type": "code",
   "execution_count": 13,
   "metadata": {},
   "outputs": [
    {
     "name": "stdout",
     "output_type": "stream",
     "text": [
      "02:17:08.530751\n",
      "02:17:08.530751\n"
     ]
    }
   ],
   "source": [
    "#time \n",
    "import datetime\n",
    "print(datetime.datetime.now().time())\n",
    "\n",
    "from datetime import datetime \n",
    "print(datetime.now().time())"
   ]
  },
  {
   "cell_type": "code",
   "execution_count": 34,
   "metadata": {},
   "outputs": [
    {
     "name": "stdout",
     "output_type": "stream",
     "text": [
      "02:34:19 AM\n"
     ]
    }
   ],
   "source": [
    "#time without miliseconds - 24 hour format\n",
    "from datetime import datetime\n",
    "print(datetime.now().strftime('%H:%M:%S %p'))"
   ]
  },
  {
   "cell_type": "code",
   "execution_count": 39,
   "metadata": {},
   "outputs": [
    {
     "name": "stdout",
     "output_type": "stream",
     "text": [
      "02:35:50 AM\n"
     ]
    }
   ],
   "source": [
    "#time in am/pm without miliseconds \n",
    "from datetime import datetime\n",
    "print(datetime.now().strftime('%X %p'))"
   ]
  },
  {
   "cell_type": "code",
   "execution_count": 37,
   "metadata": {},
   "outputs": [
    {
     "name": "stdout",
     "output_type": "stream",
     "text": [
      "02:35 AM\n"
     ]
    }
   ],
   "source": [
    "#time without miliseconds - 24 hour format\n",
    "from datetime import datetime\n",
    "print(datetime.now().strftime('%H:%M %p'))"
   ]
  },
  {
   "cell_type": "code",
   "execution_count": 23,
   "metadata": {},
   "outputs": [
    {
     "name": "stdout",
     "output_type": "stream",
     "text": [
      "Fri, 31, 01, 20\n"
     ]
    }
   ],
   "source": [
    "#weekday name and date\n",
    "from datetime import datetime\n",
    "print(datetime.now().strftime('%a, %d, %m, %y'))"
   ]
  },
  {
   "cell_type": "code",
   "execution_count": 24,
   "metadata": {},
   "outputs": [
    {
     "name": "stdout",
     "output_type": "stream",
     "text": [
      "Fri, 31, January, 20\n"
     ]
    }
   ],
   "source": [
    "#weekday name and date\n",
    "from datetime import datetime\n",
    "print(datetime.now().strftime('%a, %d, %B, %y'))"
   ]
  },
  {
   "cell_type": "code",
   "execution_count": 27,
   "metadata": {},
   "outputs": [
    {
     "name": "stdout",
     "output_type": "stream",
     "text": [
      "Fri Jan 31 02:27:34 2020\n"
     ]
    }
   ],
   "source": [
    "#weekday name , date and time\n",
    "from datetime import datetime\n",
    "print(datetime.now().strftime('%c'))"
   ]
  },
  {
   "cell_type": "code",
   "execution_count": 65,
   "metadata": {},
   "outputs": [
    {
     "name": "stdout",
     "output_type": "stream",
     "text": [
      "4\n"
     ]
    }
   ],
   "source": [
    "#weekday\n",
    "from datetime import date\n",
    "print(date.today().weekday())"
   ]
  },
  {
   "cell_type": "code",
   "execution_count": 69,
   "metadata": {},
   "outputs": [
    {
     "name": "stdout",
     "output_type": "stream",
     "text": [
      "5\n"
     ]
    }
   ],
   "source": [
    "#weekday name \n",
    "from datetime import datetime\n",
    "print(datetime.now().strftime('%w'))"
   ]
  },
  {
   "cell_type": "code",
   "execution_count": 70,
   "metadata": {},
   "outputs": [
    {
     "name": "stdout",
     "output_type": "stream",
     "text": [
      "Fri\n"
     ]
    }
   ],
   "source": [
    "#weekday name \n",
    "from datetime import datetime\n",
    "print(datetime.now().strftime('%a'))"
   ]
  },
  {
   "cell_type": "code",
   "execution_count": 44,
   "metadata": {},
   "outputs": [
    {
     "name": "stdout",
     "output_type": "stream",
     "text": [
      "31\n"
     ]
    }
   ],
   "source": [
    "#weekday name \n",
    "from datetime import datetime\n",
    "print(datetime.now().strftime('%d'))"
   ]
  },
  {
   "cell_type": "code",
   "execution_count": 26,
   "metadata": {},
   "outputs": [
    {
     "name": "stdout",
     "output_type": "stream",
     "text": [
      "01\n"
     ]
    }
   ],
   "source": [
    "#month digits\n",
    "from datetime import datetime\n",
    "print(datetime.now().strftime('%m'))"
   ]
  },
  {
   "cell_type": "code",
   "execution_count": 49,
   "metadata": {},
   "outputs": [
    {
     "name": "stdout",
     "output_type": "stream",
     "text": [
      "Jan\n"
     ]
    }
   ],
   "source": [
    "#weekday name \n",
    "from datetime import datetime\n",
    "print(datetime.now().strftime('%h'))"
   ]
  },
  {
   "cell_type": "code",
   "execution_count": 25,
   "metadata": {},
   "outputs": [
    {
     "name": "stdout",
     "output_type": "stream",
     "text": [
      "January\n"
     ]
    }
   ],
   "source": [
    "#month name\n",
    "from datetime import datetime\n",
    "print(datetime.now().strftime('%B'))"
   ]
  },
  {
   "cell_type": "code",
   "execution_count": 21,
   "metadata": {},
   "outputs": [
    {
     "name": "stdout",
     "output_type": "stream",
     "text": [
      "2020\n"
     ]
    }
   ],
   "source": [
    "#full year\n",
    "from datetime import datetime\n",
    "print(datetime.now().strftime('%Y'))"
   ]
  },
  {
   "cell_type": "code",
   "execution_count": 22,
   "metadata": {},
   "outputs": [
    {
     "name": "stdout",
     "output_type": "stream",
     "text": [
      "20\n"
     ]
    }
   ],
   "source": [
    "#last two digits of year\n",
    "from datetime import datetime\n",
    "print(datetime.now().strftime('%y'))"
   ]
  },
  {
   "cell_type": "code",
   "execution_count": 56,
   "metadata": {},
   "outputs": [
    {
     "name": "stdout",
     "output_type": "stream",
     "text": [
      "02\n"
     ]
    }
   ],
   "source": [
    "#weekday name \n",
    "from datetime import datetime\n",
    "print(datetime.now().strftime('%H'))"
   ]
  },
  {
   "cell_type": "code",
   "execution_count": 57,
   "metadata": {},
   "outputs": [
    {
     "name": "stdout",
     "output_type": "stream",
     "text": [
      "42\n"
     ]
    }
   ],
   "source": [
    "#weekday name \n",
    "from datetime import datetime\n",
    "print(datetime.now().strftime('%M'))"
   ]
  },
  {
   "cell_type": "code",
   "execution_count": 61,
   "metadata": {},
   "outputs": [
    {
     "name": "stdout",
     "output_type": "stream",
     "text": [
      "47\n"
     ]
    }
   ],
   "source": [
    "#weekday name \n",
    "from datetime import datetime\n",
    "print(datetime.now().strftime('%S'))"
   ]
  },
  {
   "cell_type": "code",
   "execution_count": 55,
   "metadata": {},
   "outputs": [
    {
     "name": "stdout",
     "output_type": "stream",
     "text": [
      "AM\n"
     ]
    }
   ],
   "source": [
    "#weekday name \n",
    "from datetime import datetime\n",
    "print(datetime.now().strftime('%p'))"
   ]
  }
 ],
 "metadata": {
  "kernelspec": {
   "display_name": "Python 3",
   "language": "python",
   "name": "python3"
  },
  "language_info": {
   "codemirror_mode": {
    "name": "ipython",
    "version": 3
   },
   "file_extension": ".py",
   "mimetype": "text/x-python",
   "name": "python",
   "nbconvert_exporter": "python",
   "pygments_lexer": "ipython3",
   "version": "3.7.0"
  }
 },
 "nbformat": 4,
 "nbformat_minor": 2
}
