{
 "cells": [
  {
   "cell_type": "code",
   "execution_count": 48,
   "metadata": {},
   "outputs": [],
   "source": [
    "import numpy as np\n",
    "import pandas as pd\n",
    "\n",
    "import matplotlib.pyplot as plt\n",
    "import numpy as np\n",
    "%matplotlib inline"
   ]
  },
  {
   "cell_type": "code",
   "execution_count": 49,
   "metadata": {},
   "outputs": [],
   "source": [
    "a=[]\n",
    "##df3 = pd.DataFrame({'A' : [np.nan]})\n",
    "def Outliers(a):\n",
    "    for j in a:\n",
    "        Q3=df[j].quantile(0.75)\n",
    "        Q1=df[j].quantile(0.25)\n",
    "        IQR = df[j].quantile(0.75) - df[j].quantile(0.25)\n",
    "        H=1.5*IQR\n",
    "        Upper_Whiskar = Q3+H\n",
    "        Lower_Whiskar = Q1-H\n",
    "        Q95 = df[j].quantile(0.95)\n",
    "        Q05 = df[j].quantile(0.05)\n",
    "    \n",
    "        print('Q3 for ',j, ': ', Q3)\n",
    "        print('Q1 for ',j,': ', Q1)\n",
    "        print('IQR for ',j,': ', IQR)\n",
    "        print('H for ',j,': ', H)\n",
    "        print('Upper Whiskar for ',j,': ', Upper_Whiskar)\n",
    "        print('Lower Whiskar for ',j,': ', Lower_Whiskar)\n",
    "    \n",
    "        print('95th Quantile for ',j,': ', Q95)\n",
    "        print('5th Quantile for',j,': ', Q05)\n",
    "        ##df3[j] = df[j].clip(lower=Lower_Whiskar,upper = Upper_Whiskar, inplace=False)\n",
    "        ##df[j].clip(lower=Lower_Whiskar,upper = Upper_Whiskar, inplace=True)\n",
    "        for i in df[j].index.tolist():\n",
    "            if(df.at[i,j]<Lower_Whiskar):\n",
    "                df.at[i,j]= Q05\n",
    "            if(df.at[i,j]>Upper_Whiskar):\n",
    "                df.at[i,j]=Q95\n",
    "\n",
    "            "
   ]
  },
  {
   "cell_type": "code",
   "execution_count": 67,
   "metadata": {},
   "outputs": [
    {
     "data": {
      "text/html": [
       "<div>\n",
       "<style scoped>\n",
       "    .dataframe tbody tr th:only-of-type {\n",
       "        vertical-align: middle;\n",
       "    }\n",
       "\n",
       "    .dataframe tbody tr th {\n",
       "        vertical-align: top;\n",
       "    }\n",
       "\n",
       "    .dataframe thead th {\n",
       "        text-align: right;\n",
       "    }\n",
       "</style>\n",
       "<table border=\"1\" class=\"dataframe\">\n",
       "  <thead>\n",
       "    <tr style=\"text-align: right;\">\n",
       "      <th></th>\n",
       "      <th>Age</th>\n",
       "      <th>Salary</th>\n",
       "    </tr>\n",
       "  </thead>\n",
       "  <tbody>\n",
       "    <tr>\n",
       "      <th>0</th>\n",
       "      <td>-500</td>\n",
       "      <td>12000</td>\n",
       "    </tr>\n",
       "    <tr>\n",
       "      <th>1</th>\n",
       "      <td>-600</td>\n",
       "      <td>25000</td>\n",
       "    </tr>\n",
       "    <tr>\n",
       "      <th>2</th>\n",
       "      <td>25</td>\n",
       "      <td>17000</td>\n",
       "    </tr>\n",
       "    <tr>\n",
       "      <th>3</th>\n",
       "      <td>22</td>\n",
       "      <td>18000</td>\n",
       "    </tr>\n",
       "    <tr>\n",
       "      <th>4</th>\n",
       "      <td>26</td>\n",
       "      <td>19000</td>\n",
       "    </tr>\n",
       "    <tr>\n",
       "      <th>5</th>\n",
       "      <td>24</td>\n",
       "      <td>20000</td>\n",
       "    </tr>\n",
       "    <tr>\n",
       "      <th>6</th>\n",
       "      <td>17</td>\n",
       "      <td>4500</td>\n",
       "    </tr>\n",
       "    <tr>\n",
       "      <th>7</th>\n",
       "      <td>3</td>\n",
       "      <td>5400</td>\n",
       "    </tr>\n",
       "    <tr>\n",
       "      <th>8</th>\n",
       "      <td>2</td>\n",
       "      <td>8000</td>\n",
       "    </tr>\n",
       "    <tr>\n",
       "      <th>9</th>\n",
       "      <td>1</td>\n",
       "      <td>90000</td>\n",
       "    </tr>\n",
       "    <tr>\n",
       "      <th>10</th>\n",
       "      <td>35</td>\n",
       "      <td>80000</td>\n",
       "    </tr>\n",
       "    <tr>\n",
       "      <th>11</th>\n",
       "      <td>95</td>\n",
       "      <td>5000</td>\n",
       "    </tr>\n",
       "    <tr>\n",
       "      <th>12</th>\n",
       "      <td>98</td>\n",
       "      <td>3000</td>\n",
       "    </tr>\n",
       "  </tbody>\n",
       "</table>\n",
       "</div>"
      ],
      "text/plain": [
       "    Age  Salary\n",
       "0  -500   12000\n",
       "1  -600   25000\n",
       "2    25   17000\n",
       "3    22   18000\n",
       "4    26   19000\n",
       "5    24   20000\n",
       "6    17    4500\n",
       "7     3    5400\n",
       "8     2    8000\n",
       "9     1   90000\n",
       "10   35   80000\n",
       "11   95    5000\n",
       "12   98    3000"
      ]
     },
     "execution_count": 67,
     "metadata": {},
     "output_type": "execute_result"
    }
   ],
   "source": [
    "data = {'Age':[-500, -600, 25,22,26,24,17,3,2,1,35,95,98], 'Salary':[12000, 25000, 17000, 18000, 19000, 20000, 4500, 5400, 8000,90000, 80000, 5000, 3000]}\n",
    "\n",
    "df = pd.DataFrame(data)\n",
    "df"
   ]
  },
  {
   "cell_type": "code",
   "execution_count": 68,
   "metadata": {},
   "outputs": [
    {
     "name": "stdout",
     "output_type": "stream",
     "text": [
      "Q3 for  Age :  26.0\n",
      "Q1 for  Age :  2.0\n",
      "IQR for  Age :  24.0\n",
      "H for  Age :  36.0\n",
      "Upper Whiskar for  Age :  62.0\n",
      "Lower Whiskar for  Age :  -34.0\n",
      "95th Quantile for  Age :  96.19999999999999\n",
      "5th Quantile for Age :  -540.0\n",
      "Q3 for  Salary :  20000.0\n",
      "Q1 for  Salary :  5400.0\n",
      "IQR for  Salary :  14600.0\n",
      "H for  Salary :  21900.0\n",
      "Upper Whiskar for  Salary :  41900.0\n",
      "Lower Whiskar for  Salary :  -16500.0\n",
      "95th Quantile for  Salary :  83999.99999999999\n",
      "5th Quantile for Salary :  3900.0\n"
     ]
    }
   ],
   "source": [
    "Outliers(['Age', 'Salary'])"
   ]
  },
  {
   "cell_type": "code",
   "execution_count": 69,
   "metadata": {},
   "outputs": [
    {
     "name": "stdout",
     "output_type": "stream",
     "text": [
      "    Age  Salary\n",
      "0  -540   12000\n",
      "1  -540   25000\n",
      "2    25   17000\n",
      "3    22   18000\n",
      "4    26   19000\n",
      "5    24   20000\n",
      "6    17    4500\n",
      "7     3    5400\n",
      "8     2    8000\n",
      "9     1   83999\n",
      "10   35   83999\n",
      "11   96    5000\n",
      "12   96    3000\n"
     ]
    }
   ],
   "source": [
    "print(df)"
   ]
  }
 ],
 "metadata": {
  "kernelspec": {
   "display_name": "Python 3",
   "language": "python",
   "name": "python3"
  },
  "language_info": {
   "codemirror_mode": {
    "name": "ipython",
    "version": 3
   },
   "file_extension": ".py",
   "mimetype": "text/x-python",
   "name": "python",
   "nbconvert_exporter": "python",
   "pygments_lexer": "ipython3",
   "version": "3.6.8"
  }
 },
 "nbformat": 4,
 "nbformat_minor": 2
}
